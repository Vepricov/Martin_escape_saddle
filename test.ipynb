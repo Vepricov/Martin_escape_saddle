{
 "cells": [
  {
   "cell_type": "code",
   "execution_count": 2,
   "id": "30090dba",
   "metadata": {},
   "outputs": [],
   "source": [
    "import torch\n",
    "def pseudoinv_via_newtonschulz5(G, Q_0=None, steps=10, eps=1e-7):\n",
    "    assert len(G.shape) == 2\n",
    "    if Q_0 is not None:\n",
    "        Q = Q_0.bfloat16()\n",
    "    else:\n",
    "        Q = G.bfloat16().T\n",
    "        Q /= Q.norm()**2 + eps  # ensure top singular value <= 1\n",
    "    G_bf = G.bfloat16()\n",
    "    if G.size(0) > G.size(1):\n",
    "        Q = Q.T\n",
    "    for _ in range(steps):\n",
    "        Q = 2 * Q - Q @ G_bf @ Q\n",
    "    if G.size(0) > G.size(1):\n",
    "        Q = Q.T\n",
    "\n",
    "    return Q.float()"
   ]
  },
  {
   "cell_type": "code",
   "execution_count": 22,
   "id": "b167462d",
   "metadata": {},
   "outputs": [],
   "source": [
    "def get_grad(G, B):\n",
    "    Q = torch.linalg.pinv(B) @ G\n",
    "    return Q\n",
    "\n",
    "def get_grad_my(G, B, num_steps=10):\n",
    "    Q = pseudoinv_via_newtonschulz5(B, steps=num_steps) @ G\n",
    "    return Q"
   ]
  },
  {
   "cell_type": "code",
   "execution_count": 10,
   "id": "315f1dff",
   "metadata": {},
   "outputs": [
    {
     "name": "stdout",
     "output_type": "stream",
     "text": [
      "tensor([[0., 2.],\n",
      "        [0., 4.],\n",
      "        [0., 8.]], dtype=torch.float64)\n",
      "tensor([[0.0000, 9.1652]], dtype=torch.float64)\n"
     ]
    },
    {
     "data": {
      "text/plain": [
       "tensor([[   nan, 0.2182],\n",
       "        [   nan, 0.4364],\n",
       "        [   nan, 0.8729]], dtype=torch.float64)"
      ]
     },
     "execution_count": 10,
     "metadata": {},
     "output_type": "execute_result"
    }
   ],
   "source": [
    "G = torch.tensor([[0, 2], [0, 4], [0, 8]], dtype=float)\n",
    "print(G)\n",
    "print(G.norm(dim=0, keepdim=True).clamp(min=1e-8))\n",
    "G /= G.norm(dim=0, keepdim=True)\n",
    "\n",
    "G"
   ]
  },
  {
   "cell_type": "code",
   "execution_count": 28,
   "id": "ef11e506",
   "metadata": {},
   "outputs": [
    {
     "name": "stdout",
     "output_type": "stream",
     "text": [
      "Step0. Q_1 - A @ Q_2 = 2.061570469891194e-08, Q_1 - Q_my = 0.00040847985656000674\n",
      "Step1. Q_1 - A @ Q_2 = 4.5663899328474145e-08, Q_1 - Q_my = 0.001365800853818655\n",
      "Step2. Q_1 - A @ Q_2 = 5.4567873775113185e-08, Q_1 - Q_my = 0.0017510391771793365\n",
      "Step3. Q_1 - A @ Q_2 = 2.3302845875150524e-08, Q_1 - Q_my = 0.00036933328374288976\n",
      "Step4. Q_1 - A @ Q_2 = 6.084324155608556e-08, Q_1 - Q_my = 0.0016209579771384597\n",
      "Step5. Q_1 - A @ Q_2 = 3.3140562294420306e-08, Q_1 - Q_my = 0.00024168229720089585\n",
      "Step6. Q_1 - A @ Q_2 = 4.713541201795124e-08, Q_1 - Q_my = 0.0005427215364761651\n",
      "Step7. Q_1 - A @ Q_2 = 3.9295990461596375e-08, Q_1 - Q_my = 0.000812358281109482\n",
      "Step8. Q_1 - A @ Q_2 = 6.410077446616924e-08, Q_1 - Q_my = 0.002119492506608367\n",
      "Step9. Q_1 - A @ Q_2 = 3.3385834541377335e-08, Q_1 - Q_my = 0.0008281836635433137\n"
     ]
    }
   ],
   "source": [
    "m, n = 2, 10\n",
    "A = torch.diag(torch.randn(m)) # scale\n",
    "# A = torch.randn(m, m) # affine\n",
    "# A = A.T @ A\n",
    "N = 10\n",
    "for i in range(N):\n",
    "    G_1 = torch.randn(m, n)\n",
    "    B_1 = torch.diag(torch.diag(G_1 @ G_1.T))\n",
    "    Q_1 = get_grad(G_1, B_1)\n",
    "    Q_my = get_grad_my(G_1, B_1, num_steps=2000)\n",
    "    G_2 = A @ G_1\n",
    "    B_2 = torch.diag(torch.diag(G_2 @ G_2.T))\n",
    "    Q_2 = get_grad(G_2, B_2)\n",
    "    print(f\"Step{i}. Q_1 - A @ Q_2 = {(Q_1 - A @ Q_2).norm()}, Q_1 - Q_my = {(Q_1 - Q_my).norm()}\")\n",
    "#print(f\">>> {1 / N * (Q_1_avg - Q_3_avg).norm()} <<<\")\n",
    "#print(f\">>> {1 / N * (Q_3_avg - A @ Q_2_avg).norm()} <<<\")"
   ]
  },
  {
   "cell_type": "code",
   "execution_count": 14,
   "metadata": {},
   "outputs": [
    {
     "data": {
      "text/plain": [
       "tensor([-0.8974,  2.5341])"
      ]
     },
     "execution_count": 14,
     "metadata": {},
     "output_type": "execute_result"
    }
   ],
   "source": [
    "G_2"
   ]
  },
  {
   "cell_type": "code",
   "execution_count": 7,
   "id": "c955df5f",
   "metadata": {},
   "outputs": [
    {
     "data": {
      "text/plain": [
       "tensor([[ 2.4193, -0.5006, -2.8286, -1.0936,  1.1911, -2.7360,  1.0512,  1.7063,\n",
       "         -0.2348, -1.8906],\n",
       "        [-0.5006,  3.9896, -0.7531, -5.3247, -0.6357,  3.0742, -2.6383,  0.6293,\n",
       "         -2.9536,  3.2870],\n",
       "        [-2.8286, -0.7531,  3.7679,  3.1903, -1.2585,  2.3350, -0.3953, -2.3333,\n",
       "          1.3085,  1.2131],\n",
       "        [-1.0936, -5.3247,  3.1903,  8.4235,  0.0176, -2.3459,  2.9827, -2.1746,\n",
       "          4.3946, -3.2818],\n",
       "        [ 1.1911, -0.6357, -1.2585,  0.0176,  0.6254, -1.5982,  0.7600,  0.7417,\n",
       "          0.1851, -1.2209],\n",
       "        [-2.7360,  3.0742,  2.3350, -2.3459, -1.5982,  4.7128, -2.7512, -1.2956,\n",
       "         -1.6721,  4.0070],\n",
       "        [ 1.0512, -2.6383, -0.3953,  2.9827,  0.7600, -2.7512,  1.9648,  0.1295,\n",
       "          1.7682, -2.6254],\n",
       "        [ 1.7063,  0.6293, -2.3333, -2.1746,  0.7417, -1.2956,  0.1295,  1.4518,\n",
       "         -0.9245, -0.6014],\n",
       "        [-0.2348, -2.9536,  1.3085,  4.3946,  0.1851, -1.6721,  1.7682, -0.9245,\n",
       "          2.3422, -2.0537],\n",
       "        [-1.8906,  3.2870,  1.2131, -3.2818, -1.2209,  4.0070, -2.6254, -0.6014,\n",
       "         -2.0537,  3.6353]])"
      ]
     },
     "execution_count": 7,
     "metadata": {},
     "output_type": "execute_result"
    }
   ],
   "source": [
    "G_1 @ G_1.T"
   ]
  }
 ],
 "metadata": {
  "kernelspec": {
   "display_name": "martin_env",
   "language": "python",
   "name": "python3"
  },
  "language_info": {
   "codemirror_mode": {
    "name": "ipython",
    "version": 3
   },
   "file_extension": ".py",
   "mimetype": "text/x-python",
   "name": "python",
   "nbconvert_exporter": "python",
   "pygments_lexer": "ipython3",
   "version": "3.13.0"
  }
 },
 "nbformat": 4,
 "nbformat_minor": 5
}
